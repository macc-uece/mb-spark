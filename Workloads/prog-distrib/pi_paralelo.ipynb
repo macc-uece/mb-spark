{
 "cells": [
  {
   "cell_type": "code",
   "execution_count": 1,
   "metadata": {},
   "outputs": [],
   "source": [
    "import findspark\n",
    "findspark.init()\n",
    "\n",
    "from pyspark import SparkContext, SparkConf\n",
    "from pyspark.sql import SparkSession, Row\n",
    "from random import random\n",
    "from operator import add\n",
    "import time"
   ]
  },
  {
   "cell_type": "code",
   "execution_count": 2,
   "metadata": {},
   "outputs": [],
   "source": [
    "def f(_):\n",
    "    x = random() * 2 - 1\n",
    "    y = random() * 2 - 1\n",
    "    return 1 if x ** 2 + y ** 2 <= 1 else 0"
   ]
  },
  {
   "cell_type": "code",
   "execution_count": 3,
   "metadata": {},
   "outputs": [
    {
     "name": "stdout",
     "output_type": "stream",
     "text": [
      "env: MESOS_NATIVE_JAVA_LIBRARY=/usr/local/lib/libmesos.so\n"
     ]
    }
   ],
   "source": [
    "%env MESOS_NATIVE_JAVA_LIBRARY=/usr/local/lib/libmesos.so"
   ]
  },
  {
   "cell_type": "code",
   "execution_count": 4,
   "metadata": {},
   "outputs": [],
   "source": [
    "start_time = time.time()\n",
    "\n",
    "spark = SparkSession.builder\\\n",
    "        .appName(\"SparkPiParallel\")\\\n",
    "        .master(\"mesos://zk://10.129.64.20:2181,10.129.64.10:2181,10.129.64.30:2181/mesos\") \\\n",
    "        .config(\"spark.executor.uri\", \"http://lasid20/spark-2.4.4-bin-hadoop2.7.tgz\")\\\n",
    "        .getOrCreate()\n",
    "\n",
    "spark.conf.set(\"spark.submit.deployMode\", \"cluster\")\n",
    "spark.conf.set(\"spark.driver.supervise\", \"true\")\n",
    "spark.conf.set(\"spark.executor.memory\", \"8g\")\n",
    "spark.conf.set(\"spark.core.connection.ack.wait.timeout\", \"12000\")"
   ]
  },
  {
   "cell_type": "code",
   "execution_count": 5,
   "metadata": {},
   "outputs": [
    {
     "name": "stdout",
     "output_type": "stream",
     "text": [
      "Pi is roughly 3.150000\n",
      "--- Parallel Execution time: 12.813469409942627 seconds ---\n"
     ]
    }
   ],
   "source": [
    "partitions = 200\n",
    "n = 100000 * partitions\n",
    "\n",
    "count = spark.sparkContext.parallelize(range(1, n + 1), partitions).map(f).reduce(add)\n",
    "\n",
    "print(\"Pi is roughly %f\" % (4.0 * count / n))\n",
    "print(\"--- Parallel Execution time: %s seconds ---\" % (time.time() - start_time))"
   ]
  },
  {
   "cell_type": "code",
   "execution_count": 6,
   "metadata": {},
   "outputs": [],
   "source": [
    "spark.stop()"
   ]
  }
 ],
 "metadata": {
  "kernelspec": {
   "display_name": "Python 3",
   "language": "python",
   "name": "python3"
  },
  "language_info": {
   "codemirror_mode": {
    "name": "ipython",
    "version": 3
   },
   "file_extension": ".py",
   "mimetype": "text/x-python",
   "name": "python",
   "nbconvert_exporter": "python",
   "pygments_lexer": "ipython3",
   "version": "3.6.9"
  }
 },
 "nbformat": 4,
 "nbformat_minor": 4
}
