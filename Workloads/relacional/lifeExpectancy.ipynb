{
 "cells": [
  {
   "cell_type": "markdown",
   "metadata": {},
   "source": [
    "\n",
    "# Aula 4: Exemplos de Estatística e Gráficos - Dados WHO"
   ]
  },
  {
   "cell_type": "code",
   "execution_count": 1,
   "metadata": {},
   "outputs": [],
   "source": [
    "# Inicia ambiente Spark\n",
    "import findspark\n",
    "findspark.init()"
   ]
  },
  {
   "cell_type": "code",
   "execution_count": 2,
   "metadata": {},
   "outputs": [],
   "source": [
    "# Carrega módulos \n",
    "# Carrega módulo PySpark para permitir ao Python acessar funções do Spark\n",
    "from pyspark.sql import SparkSession\n",
    "\n",
    "# Gambiarra\n",
    "#from pyspark.conf import SparkConf\n",
    "\n",
    "\n",
    "import time\n",
    "start_time = time.time()\n",
    "\n",
    "# Importa biblioteca Pandas para Análise de Dados\n",
    "import pandas as pd\n",
    "\n",
    "# Importa biblioteca Numpy para Tratamento de Matrizes\n",
    "import numpy as np\n",
    "\n",
    "# Importa biblioteca Matplotlib para desenhar gráficos \n",
    "import matplotlib.pyplot as plt\n",
    "\n",
    "# Indica para mostrar os graficos inline no Notebook\n",
    "%matplotlib inline"
   ]
  },
  {
   "cell_type": "code",
   "execution_count": 3,
   "metadata": {},
   "outputs": [],
   "source": [
    "# Cria Sessão Spark\n",
    "sparkSession = SparkSession.builder \\\n",
    "       .master(\"local\") \\\n",
    "       .appName(\"Estatistica e Gráficos\") \\\n",
    "       .getOrCreate()"
   ]
  },
  {
   "cell_type": "markdown",
   "metadata": {},
   "source": [
    "# Carrega Arquivo de dados"
   ]
  },
  {
   "cell_type": "code",
   "execution_count": 4,
   "metadata": {},
   "outputs": [
    {
     "data": {
      "text/plain": [
       "[('Country', 'string'),\n",
       " ('Year', 'int'),\n",
       " ('Status', 'string'),\n",
       " ('Life expectancy', 'double'),\n",
       " ('Adult Mortality', 'int'),\n",
       " ('infant deaths', 'int'),\n",
       " ('Alcohol', 'double'),\n",
       " ('percentage expenditure', 'double'),\n",
       " ('Hepatitis B', 'int'),\n",
       " ('Measles', 'int'),\n",
       " ('BMI', 'double'),\n",
       " ('under-five deaths', 'int'),\n",
       " ('Polio', 'int'),\n",
       " ('Total expenditure', 'double'),\n",
       " ('Diphtheria', 'int'),\n",
       " ('HIV/AIDS', 'double'),\n",
       " ('GDP', 'double'),\n",
       " ('Population', 'double'),\n",
       " ('thinness 1-19 years', 'double'),\n",
       " ('thinness 5-9 years', 'double'),\n",
       " ('Income composition of resources', 'double'),\n",
       " ('Schooling', 'double')]"
      ]
     },
     "execution_count": 4,
     "metadata": {},
     "output_type": "execute_result"
    }
   ],
   "source": [
    "%store -r path\n",
    "\n",
    "\n",
    "# Le arquivo de dados CSV para Dataframe Spark\n",
    "df = sparkSession.read.format(\"csv\").options(sep=',',header='true',inferschema='true').load(path)\n",
    "\n",
    "# A partir de agora trabalhanmos apenas com o dataframe 'df'\n",
    "\n",
    "#Exibe campos da tabela e os tipos de dados\n",
    "df.dtypes"
   ]
  },
  {
   "cell_type": "code",
   "execution_count": 5,
   "metadata": {},
   "outputs": [
    {
     "name": "stdout",
     "output_type": "stream",
     "text": [
      "+-----------+----+----------+---------------+---------------+-------------+-------+----------------------+-----------+-------+----+-----------------+-----+-----------------+----------+--------+----------+-----------+-------------------+------------------+-------------------------------+---------+\n",
      "|    Country|Year|    Status|Life expectancy|Adult Mortality|infant deaths|Alcohol|percentage expenditure|Hepatitis B|Measles| BMI|under-five deaths|Polio|Total expenditure|Diphtheria|HIV/AIDS|       GDP| Population|thinness 1-19 years|thinness 5-9 years|Income composition of resources|Schooling|\n",
      "+-----------+----+----------+---------------+---------------+-------------+-------+----------------------+-----------+-------+----+-----------------+-----+-----------------+----------+--------+----------+-----------+-------------------+------------------+-------------------------------+---------+\n",
      "|Afghanistan|2015|Developing|           65.0|            263|           62|   0.01|           71.27962362|         65|   1154|19.1|               83|    6|             8.16|        65|     0.1| 584.25921|3.3736494E7|               17.2|              17.3|                          0.479|     10.1|\n",
      "|Afghanistan|2014|Developing|           59.9|            271|           64|   0.01|           73.52358168|         62|    492|18.6|               86|   58|             8.18|        62|     0.1|612.696514|   327582.0|               17.5|              17.5|                          0.476|     10.0|\n",
      "|Afghanistan|2013|Developing|           59.9|            268|           66|   0.01|           73.21924272|         64|    430|18.1|               89|   62|             8.13|        64|     0.1|631.744976|3.1731688E7|               17.7|              17.7|                           0.47|      9.9|\n",
      "|Afghanistan|2012|Developing|           59.5|            272|           69|   0.01|            78.1842153|         67|   2787|17.6|               93|   67|             8.52|        67|     0.1|   669.959|  3696958.0|               17.9|              18.0|                          0.463|      9.8|\n",
      "|Afghanistan|2011|Developing|           59.2|            275|           71|   0.01|           7.097108703|         68|   3013|17.2|               97|   68|             7.87|        68|     0.1| 63.537231|  2978599.0|               18.2|              18.2|                          0.454|      9.5|\n",
      "+-----------+----+----------+---------------+---------------+-------------+-------+----------------------+-----------+-------+----+-----------------+-----+-----------------+----------+--------+----------+-----------+-------------------+------------------+-------------------------------+---------+\n",
      "only showing top 5 rows\n",
      "\n"
     ]
    }
   ],
   "source": [
    "# Exibe primeiros 5 registros do Dataframe\n",
    "df.show(5)"
   ]
  },
  {
   "cell_type": "markdown",
   "metadata": {},
   "source": [
    "## Explicação do arquivo de dados Life_Expectancy_Data.csv\n",
    "\n",
    "| Campo | Explicação do valor do campo |\n",
    "|:-:|:-:|\n",
    "|Country|Country |\n",
    "|Year | Year |\n",
    "|Status| Developed or Developing status |\n",
    "|Life expectancy| Life Expectancy in age |\n",
    "|Adult Mortality| Adult Mortality Rates of both sexes (probability of dying between 15 and 60 years per 1000 population) |\n",
    "|Infant deaths| Number of Infant Deaths per 1000 population |\n",
    "|Alcohol| Alcohol, recorded per capita (15+) consumption (in litres of pure alcohol) |\n",
    "|Percentage expenditure| Expenditure on health as a percentage of Gross Domestic Product per capita (%) |\n",
    "|Hepatitis B| Hepatitis B (HepB) immunization coverage among 1-year-olds (%) |\n",
    "|Measles| Measles - number of reported cases per 1000 population |\n",
    "|BMI| Average Body Mass Index of entire population |\n",
    "|under-five deaths| Number of under-five deaths per 1000 population |\n",
    "|Polio| Polio (Pol3) immunization coverage among 1-year-olds (%) |\n",
    "|Total expenditure| General government expenditure on health as a percentage of total government expenditure (%) |\n",
    "|Diphtheria| Diphtheria tetanus toxoid and pertussis (DTP3) immunization coverage among 1-year-olds (%) |\n",
    "|HIV/AIDS| Deaths per 1 000 live births HIV/AIDS (0-4 years) |\n",
    "|GDP| Gross Domestic Product per capita (in USD) |\n",
    "|Population| Population of the country |\n",
    "|thinness 1-19 years| Prevalence of thinness among children and adolescents for Age 10 to 19 (%) |\n",
    "|thinness 5-9 years| Prevalence of thinness among children for Age 5 to 9 (%) |\n",
    "|Income composition of resources| Human Development Index in terms of income composition of resources (index ranging from 0 to 1) |\n",
    "|Schooling| Number of years of Schooling (years) |"
   ]
  },
  {
   "cell_type": "markdown",
   "metadata": {},
   "source": [
    "# Seleção de Dados e Geração de Gráfico"
   ]
  },
  {
   "cell_type": "code",
   "execution_count": 6,
   "metadata": {},
   "outputs": [
    {
     "name": "stdout",
     "output_type": "stream",
     "text": [
      "+----+---------------+\n",
      "|Year|Life expectancy|\n",
      "+----+---------------+\n",
      "|2000|           75.0|\n",
      "|2001|           71.0|\n",
      "|2002|           71.4|\n",
      "|2003|           71.8|\n",
      "|2004|           72.0|\n",
      "|2005|           72.7|\n",
      "|2006|           73.0|\n",
      "|2007|           73.3|\n",
      "|2008|           73.4|\n",
      "|2009|           73.6|\n",
      "+----+---------------+\n",
      "only showing top 10 rows\n",
      "\n"
     ]
    }
   ],
   "source": [
    "# Para gerar um gráfico precisamos extrair do dataframe os dados relevantes\n",
    "# criamos um novo Dataframe gr apenas para gerar o gráfico\n",
    "gr = df.select(\"Country\",\"Year\",\"Life expectancy\").filter(df.Country == 'Brazil').drop(\"Country\").sort(\"Year\", ascending=True)\n",
    "\n",
    "gr.show(10)"
   ]
  },
  {
   "cell_type": "code",
   "execution_count": 7,
   "metadata": {},
   "outputs": [
    {
     "name": "stdout",
     "output_type": "stream",
     "text": [
      "[[2000]\n",
      " [2001]\n",
      " [2002]\n",
      " [2003]\n",
      " [2004]\n",
      " [2005]\n",
      " [2006]\n",
      " [2007]\n",
      " [2008]\n",
      " [2009]\n",
      " [2010]\n",
      " [2011]\n",
      " [2012]\n",
      " [2013]\n",
      " [2014]\n",
      " [2015]]\n",
      "[[75. ]\n",
      " [71. ]\n",
      " [71.4]\n",
      " [71.8]\n",
      " [72. ]\n",
      " [72.7]\n",
      " [73. ]\n",
      " [73.3]\n",
      " [73.4]\n",
      " [73.6]\n",
      " [73.8]\n",
      " [74.1]\n",
      " [74.5]\n",
      " [74.7]\n",
      " [74.8]\n",
      " [75. ]]\n"
     ]
    }
   ],
   "source": [
    "# Converte Dataframe em array Numpy, definindo o eixo x e eixo y\n",
    "gr_x = np.array(gr.select('Year').collect())\n",
    "gr_y = np.array(gr.select('Life expectancy').collect())\n",
    "\n",
    "print(gr_x)\n",
    "print(gr_y)"
   ]
  },
  {
   "cell_type": "code",
   "execution_count": 8,
   "metadata": {},
   "outputs": [
    {
     "data": {
      "image/png": "[encoded data removed]",
      "text/plain": [
       "<Figure size 432x288 with 1 Axes>"
      ]
     },
     "metadata": {
      "needs_background": "light"
     },
     "output_type": "display_data"
    }
   ],
   "source": [
    "# Limpa gráfico anterior\n",
    "plt.clf()\n",
    "\n",
    "# Desenha gráfico com sinal + azul\n",
    "plt.plot(gr_x,gr_y,'b+')\n",
    "\n",
    "# Define nomes dos eixos\n",
    "plt.xlabel('Year')\n",
    "plt.ylabel('Life expectancy (years)')\n",
    "plt.title(r'Life expectancy in Brazil')\n",
    "plt.xlim(2000,2016)\n",
    "plt.grid(color='g', linestyle=':', linewidth=.3)\n",
    "plt.savefig('./life_expect_BR.png', dpi=300)\n",
    "plt.show()"
   ]
  },
  {
   "cell_type": "markdown",
   "metadata": {},
   "source": [
    "# Cálculo de estatística "
   ]
  },
  {
   "cell_type": "code",
   "execution_count": 9,
   "metadata": {},
   "outputs": [
    {
     "name": "stdout",
     "output_type": "stream",
     "text": [
      "+-------------------+----+---------------+\n",
      "|            Country|Year|Life expectancy|\n",
      "+-------------------+----+---------------+\n",
      "|        Afghanistan|2013|           59.9|\n",
      "|            Albania|2013|           77.2|\n",
      "|            Algeria|2013|           75.3|\n",
      "|             Angola|2013|           51.1|\n",
      "|Antigua and Barbuda|2013|           76.1|\n",
      "|          Argentina|2013|           76.0|\n",
      "|            Armenia|2013|           74.4|\n",
      "|          Australia|2013|           82.5|\n",
      "|            Austria|2013|           81.1|\n",
      "|         Azerbaijan|2013|           72.2|\n",
      "+-------------------+----+---------------+\n",
      "only showing top 10 rows\n",
      "\n"
     ]
    }
   ],
   "source": [
    "# Cria um novo Dataframe apenas com os dados relevantes (Pais, expetativa no ano de 2013)  \n",
    "es = df.select(\"Country\",\"Year\",\"Life expectancy\").filter(df.Year == '2013')\n",
    "es.show(10)"
   ]
  },
  {
   "cell_type": "code",
   "execution_count": 10,
   "metadata": {},
   "outputs": [
    {
     "name": "stdout",
     "output_type": "stream",
     "text": [
      "+-------+-----------------+\n",
      "|summary|  Life expectancy|\n",
      "+-------+-----------------+\n",
      "|  count|              183|\n",
      "|   mean|71.23606557377052|\n",
      "| stddev|8.413771405879869|\n",
      "|    min|             49.9|\n",
      "|    max|             87.0|\n",
      "+-------+-----------------+\n",
      "\n"
     ]
    }
   ],
   "source": [
    "# Calculos estatisticos\n",
    "summary = es.describe(\"Life expectancy\")\n",
    "summary.show()"
   ]
  },
  {
   "cell_type": "code",
   "execution_count": 11,
   "metadata": {},
   "outputs": [],
   "source": [
    "# Envia dados para o Panda\n",
    "pandaDf = summary.toPandas()\n",
    "min_string = pandaDf[pandaDf['summary'] == 'min']['Life expectancy'].iloc[0]\n",
    "max_string = pandaDf[pandaDf['summary'] == 'max']['Life expectancy'].iloc[0]\n",
    "mean_string = pandaDf[pandaDf['summary'] == 'mean']['Life expectancy'].iloc[0]\n",
    "medianAndQuantiles = es.stat.approxQuantile(\"Life expectancy\",[0.25,0.5,0.75],0.0)\n",
    "(q1,median,q3) = (medianAndQuantiles[0], medianAndQuantiles[1], medianAndQuantiles[2])"
   ]
  },
  {
   "cell_type": "code",
   "execution_count": 12,
   "metadata": {},
   "outputs": [
    {
     "data": {
      "text/plain": [
       "<Figure size 432x288 with 0 Axes>"
      ]
     },
     "metadata": {},
     "output_type": "display_data"
    },
    {
     "data": {
      "image/png": "[encoded data removed]",
      "text/plain": [
       "<Figure size 432x288 with 1 Axes>"
      ]
     },
     "metadata": {
      "needs_background": "light"
     },
     "output_type": "display_data"
    }
   ],
   "source": [
    "# Limpa gráfico anterior e inicia item\n",
    "plt.clf() \n",
    "item = {}\n",
    "\n",
    "item[\"label\"] = 'Life Expectancy' \n",
    "item[\"mean\"] = float(mean_string) \n",
    "item[\"med\"] = median \n",
    "item[\"q1\"] = q1\n",
    "item[\"q3\"] = q3\n",
    "item[\"whislo\"] = float(min_string) \n",
    "item[\"whishi\"] = float(max_string)\n",
    "item[\"fliers\"] = []\n",
    "stats = [item]\n",
    "\n",
    "fig, axes = plt.subplots(1, 1)\n",
    "axes.bxp(stats)\n",
    "axes.set_title('Life Expectancy in 2013')\n",
    "\n",
    "plt.savefig('./life_expect_stat_2013.png', dpi=300)\n",
    "plt.show()"
   ]
  },
  {
   "cell_type": "markdown",
   "metadata": {},
   "source": [
    "# Covariância e Correlação"
   ]
  },
  {
   "cell_type": "code",
   "execution_count": 13,
   "metadata": {},
   "outputs": [
    {
     "data": {
      "image/png": "[encoded data removed]",
      "text/plain": [
       "<Figure size 432x288 with 1 Axes>"
      ]
     },
     "metadata": {
      "needs_background": "light"
     },
     "output_type": "display_data"
    },
    {
     "name": "stdout",
     "output_type": "stream",
     "text": [
      "Covariance and Correlation Life expectancy x Alcohol\n",
      "Covariance = 15.15\n",
      "Correlation = 0.36\n"
     ]
    }
   ],
   "source": [
    "cov_df = df.select('Life expectancy', 'Alcohol')\n",
    "#cov_df.show(10)\n",
    "\n",
    "cov_x = np.array(cov_df.select('Alcohol').collect())\n",
    "cov_y = np.array(cov_df.select('Life expectancy').collect())\n",
    "\n",
    "# Limpa gráfico anterior\n",
    "plt.clf()\n",
    "\n",
    "# Desenha gráfico com sinal + azul\n",
    "plt.plot(cov_x,cov_y,'bo',markersize=2)\n",
    "\n",
    "# Define nomes dos eixos\n",
    "plt.xlabel('Alcohol (liters per capita)')\n",
    "plt.ylabel('Life expectancy (years)')\n",
    "plt.title(r'Life expectancy x Alcohol')\n",
    "plt.savefig('./life_expect_alcohol_cor.png', dpi=300)\n",
    "plt.show()\n",
    "\n",
    "print(\"Covariance and Correlation Life expectancy x Alcohol\")\n",
    "print(\"Covariance = %5.2f\" % df.stat.cov('Life expectancy', 'Alcohol'))\n",
    "print(\"Correlation = %1.2f\" % df.stat.corr('Life expectancy', 'Alcohol'))"
   ]
  },
  {
   "cell_type": "code",
   "execution_count": 14,
   "metadata": {},
   "outputs": [
    {
     "data": {
      "image/png": "[encoded data removed]",
      "text/plain": [
       "<Figure size 432x288 with 1 Axes>"
      ]
     },
     "metadata": {
      "needs_background": "light"
     },
     "output_type": "display_data"
    },
    {
     "name": "stdout",
     "output_type": "stream",
     "text": [
      "Covariance and Correlation Life expectancy x Schooling\n",
      "Covariance = 24.74\n",
      "Correlation = 0.56\n"
     ]
    }
   ],
   "source": [
    "cov_df = df.select('Life expectancy', 'Schooling')\n",
    "#cov_df.show(10)\n",
    "\n",
    "cov_x = np.array(cov_df.select('Schooling').collect())\n",
    "cov_y = np.array(cov_df.select('Life expectancy').collect())\n",
    "\n",
    "# Limpa gráfico anterior\n",
    "plt.clf()\n",
    "\n",
    "# Desenha gráfico com sinal + azul\n",
    "plt.plot(cov_x,cov_y,'bo',markersize=2)\n",
    "\n",
    "# Define nomes dos eixos\n",
    "plt.xlabel('Schooling (years of schooll)')\n",
    "plt.ylabel('Life expectancy (years)')\n",
    "plt.title(r'Life expectancy x Schooling')\n",
    "plt.savefig('./life_expect_schooling_cor.png', dpi=300)\n",
    "plt.show()\n",
    "\n",
    "print(\"Covariance and Correlation Life expectancy x Schooling\")\n",
    "print(\"Covariance = %5.2f\" % df.stat.cov('Life expectancy', 'Schooling'))\n",
    "print(\"Correlation = %1.2f\" % df.stat.corr('Life expectancy', 'Schooling'))"
   ]
  },
  {
   "cell_type": "code",
   "execution_count": 15,
   "metadata": {},
   "outputs": [
    {
     "name": "stdout",
     "output_type": "stream",
     "text": [
      "--- Execution time: 17.74536418914795 seconds ---\n"
     ]
    }
   ],
   "source": [
    "sparkSession.stop()\n",
    "print(\"--- Execution time: %s seconds ---\" % (time.time() - start_time))"
   ]
  }
 ],
 "metadata": {
  "kernelspec": {
   "display_name": "Python 3",
   "language": "python",
   "name": "python3"
  },
  "language_info": {
   "codemirror_mode": {
    "name": "ipython",
    "version": 3
   },
   "file_extension": ".py",
   "mimetype": "text/x-python",
   "name": "python",
   "nbconvert_exporter": "python",
   "pygments_lexer": "ipython3",
   "version": "3.6.9"
  }
 },
 "nbformat": 4,
 "nbformat_minor": 4
}
