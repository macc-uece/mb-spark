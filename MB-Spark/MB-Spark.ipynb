{
 "cells": [
  {
   "cell_type": "markdown",
   "metadata": {},
   "source": [
    "# SparkBenchmark - Testes de Machine Learning Iris"
   ]
  },
  {
   "cell_type": "code",
   "execution_count": 1,
   "metadata": {},
   "outputs": [],
   "source": [
    "import matplotlib.pyplot\n",
    "import time\n",
    "import matplotlib.pyplot as plt\n",
    "import numpy as np\n",
    "import lfunction\n"
   ]
  },
  {
   "cell_type": "markdown",
   "metadata": {},
   "source": [
    "# Parametros"
   ]
  },
  {
   "cell_type": "markdown",
   "metadata": {},
   "source": [
    "### Coloque os nomes das aplicações que servirão de labels para o gráfico"
   ]
  },
  {
   "cell_type": "code",
   "execution_count": 2,
   "metadata": {},
   "outputs": [],
   "source": [
    "A = 'KNN'\n",
    "B = 'M-Perceptron'\n",
    "C = 'Naive Bayes'\n",
    "D = 'SVM'\n",
    "E = 'Decision Tree'"
   ]
  },
  {
   "cell_type": "markdown",
   "metadata": {},
   "source": [
    "## Parâmetros de Repricação de Workload"
   ]
  },
  {
   "cell_type": "code",
   "execution_count": 3,
   "metadata": {},
   "outputs": [],
   "source": [
    "test1 = \"hd.csv\"\n",
    "\n",
    "test2 = \"gluster.csv\"\n",
    "\n",
    "test3 = \"ssd.csv\""
   ]
  },
  {
   "cell_type": "markdown",
   "metadata": {},
   "source": [
    "## Número de Repetições"
   ]
  },
  {
   "cell_type": "code",
   "execution_count": 4,
   "metadata": {},
   "outputs": [],
   "source": [
    "n1 = 10\n",
    "n2 = 50\n",
    "n3 = 250"
   ]
  },
  {
   "cell_type": "markdown",
   "metadata": {},
   "source": [
    "### Coloque os caminhos desejados dos Datasets"
   ]
  },
  {
   "cell_type": "code",
   "execution_count": 5,
   "metadata": {},
   "outputs": [],
   "source": [
    "fname = 'iris.data'\n",
    "\n",
    "camA = '/home/tiago/Projeto_Final_Database/'\n",
    "caminhoA = camA + fname  # HD\n",
    "#caminhoA = '/home/tiago/Projeto_Final_Database/Life_Expectancy_Data.csv' # HD\n",
    "\n",
    "camB = '/data/Projeto_Final_Database/'\n",
    "caminhoB = camB + fname  # Gluster\n",
    "#caminhoB = '/data/Projeto_Final_Database/Life_Expectancy_Data.csv' # Gluster\n",
    "\n",
    "camC = '/tmp/Projeto_Final_Database/'\n",
    "caminhoC = camC + fname  # SSD\n",
    "#caminhoC = '/tmp/Projeto_Final_Database/Life_Expectancy_Data.csv' # SSD\n",
    "\n",
    "\n",
    "\n"
   ]
  },
  {
   "cell_type": "markdown",
   "metadata": {},
   "source": [
    "### Logo abaixo você poderá editar título do gráfico e as labels correspondentes de RUN/LOOP (Esses valores não afetam nos testes)\n"
   ]
  },
  {
   "cell_type": "code",
   "execution_count": 6,
   "metadata": {},
   "outputs": [],
   "source": [
    "cod = 'Iris'\n",
    "run = '10r'\n",
    "loop = '4l'\n",
    "\n",
    "\n",
    "# Caminho testado no momento\n",
    "method = 'SSD'\n",
    "pathAtual = caminhoC\n",
    "\n",
    "title = 'Desempenho do código ' + cod + ' | ' + run + ' x ' + loop + ' ' + method\n",
    "\n",
    "figName = cod + '_' + run + '_' + loop + method + '.png'\n"
   ]
  },
  {
   "cell_type": "markdown",
   "metadata": {},
   "source": [
    "# Execução"
   ]
  },
  {
   "cell_type": "markdown",
   "metadata": {},
   "source": [
    "### Abaixo você deve colocar o caminho do código em Python Notebook que deverá ser testado"
   ]
  },
  {
   "cell_type": "code",
   "execution_count": 7,
   "metadata": {},
   "outputs": [],
   "source": [
    "%%capture\n",
    "\n",
    "def firstCode():\n",
    "    try:\n",
    "        %run ./KNN_Iris.ipynb\n",
    "    except:\n",
    "        print(\"Não foi possível executar sua aplicação\")\n",
    "\n",
    "def secondCode():\n",
    "    try:\n",
    "        %run ./Multi_Perceptron_Iris.ipynb\n",
    "    except:\n",
    "        print(\"Não foi possível executar sua aplicação\")\n",
    "    \n",
    "def thirdCode():\n",
    "    try:\n",
    "        %run ./Nayve_Bayes_Iris.ipynb\n",
    "    except:\n",
    "        print(\"Não foi possível executar sua aplicação\")\n",
    "        \n",
    "def fourthCode():\n",
    "    try:\n",
    "        %run ./SVM_Iris.ipynb\n",
    "    except:\n",
    "        print(\"Não foi possível executar sua aplicação\")\n",
    "        \n",
    "def fifthCode():\n",
    "    try:\n",
    "        %run ./RunDecisionTree_Iris.ipynb\n",
    "    except:\n",
    "        print(\"Não foi possível executar sua aplicação\")"
   ]
  },
  {
   "cell_type": "markdown",
   "metadata": {},
   "source": [
    "# Testes"
   ]
  },
  {
   "cell_type": "markdown",
   "metadata": {},
   "source": [
    "### Os valores numericos abaixo correspondem respectivamente, LOOP e RUN (Esses valores afetam no resultado dos testes)"
   ]
  },
  {
   "cell_type": "markdown",
   "metadata": {},
   "source": [
    "### RUN = Corresponde ao número de vezes que o seu código será executado, a média de tempo é tirada através do número total de RUNS."
   ]
  },
  {
   "cell_type": "markdown",
   "metadata": {},
   "source": [
    "### LOOP = Corresponde ao número de vezes que seu código será executado, o desvio padrão é tirado do número total de loops. A cada série de loops será considerado o melhor valor. Ajuste o número de loops de acordo com a necessidade precisão do resultado."
   ]
  },
  {
   "cell_type": "markdown",
   "metadata": {},
   "source": [
    "### O número do total de vezes que seu código será executado é definido por LOOP x RUN, tenha isso em mente quando for alterar os valores."
   ]
  },
  {
   "cell_type": "markdown",
   "metadata": {},
   "source": [
    "### Atenção: Por padrão o número de runs é definido por 30 conforme abordado no teste amostral do Raj Jain, no entanto você é livre para alterar esse valor"
   ]
  },
  {
   "cell_type": "code",
   "execution_count": 8,
   "metadata": {},
   "outputs": [],
   "source": [
    "%%capture\n",
    "path = pathAtual\n",
    "%store path\n",
    "a = %timeit -n 4 -r 10 -o firstCode()"
   ]
  },
  {
   "cell_type": "code",
   "execution_count": 9,
   "metadata": {},
   "outputs": [],
   "source": [
    "%%capture\n",
    "path = pathAtual\n",
    "%store path\n",
    "b = %timeit -n 4 -r 10 -o secondCode()"
   ]
  },
  {
   "cell_type": "code",
   "execution_count": 10,
   "metadata": {},
   "outputs": [],
   "source": [
    "%%capture\n",
    "path = pathAtual\n",
    "%store path\n",
    "c = %timeit -n 4 -r 10 -o thirdCode()"
   ]
  },
  {
   "cell_type": "code",
   "execution_count": 11,
   "metadata": {},
   "outputs": [],
   "source": [
    "%%capture\n",
    "path = pathAtual\n",
    "%store path\n",
    "d = %timeit -n 4 -r 10 -o fourthCode()"
   ]
  },
  {
   "cell_type": "code",
   "execution_count": 12,
   "metadata": {},
   "outputs": [],
   "source": [
    "%%capture\n",
    "path = pathAtual\n",
    "%store path\n",
    "e = %timeit -n 4 -r 10 -o fifthCode()"
   ]
  },
  {
   "cell_type": "markdown",
   "metadata": {},
   "source": [
    "# Resultados"
   ]
  },
  {
   "cell_type": "markdown",
   "metadata": {},
   "source": [
    "### O primeiro valor mostrado trata-se da Média Aritmética do Número de Runs"
   ]
  },
  {
   "cell_type": "markdown",
   "metadata": {},
   "source": [
    "### O segundo valor mostrado trata-se do Desvio padrão"
   ]
  },
  {
   "cell_type": "code",
   "execution_count": 13,
   "metadata": {},
   "outputs": [],
   "source": [
    "# Convertendo Objeto para String\n",
    "\n",
    "a = str(a)\n",
    "b = str(b)\n",
    "c = str(c)\n",
    "d = str(d)\n",
    "e = str(e)"
   ]
  },
  {
   "cell_type": "code",
   "execution_count": 14,
   "metadata": {},
   "outputs": [
    {
     "name": "stdout",
     "output_type": "stream",
     "text": [
      "\n",
      "- Tempo de execução KNN - SSD - 4.86 s ± 119 ms per loop (mean ± std. dev. of 10 runs, 4 loops each)\n",
      "\n",
      "- Tempo de execução M-Perceptron - SSD - 4.57 s ± 1.14 s per loop (mean ± std. dev. of 10 runs, 4 loops each)\n",
      "\n",
      "- Tempo de execução Naive Bayes - SSD - 1.37 s ± 35.9 ms per loop (mean ± std. dev. of 10 runs, 4 loops each)\n",
      "\n",
      "- Tempo de execução SVM - SSD - 39.4 s ± 728 ms per loop (mean ± std. dev. of 10 runs, 4 loops each)\n",
      "\n",
      "- Tempo de execução Decision Tree - SSD - 1.35 s ± 31.9 ms per loop (mean ± std. dev. of 10 runs, 4 loops each)\n"
     ]
    }
   ],
   "source": [
    "print(\"\")\n",
    "\n",
    "print(\"- Tempo de execução \" + A + \" - \" + method + \" - \" + a)\n",
    "\n",
    "print(\"\")\n",
    "\n",
    "print(\"- Tempo de execução \" + B + \" - \" + method + \" - \" + b)\n",
    "\n",
    "print(\"\")\n",
    "\n",
    "print(\"- Tempo de execução \" + C + \" - \" + method + \" - \" + c)\n",
    "\n",
    "print(\"\")\n",
    "\n",
    "print(\"- Tempo de execução \" + D + \" - \" + method + \" - \" + d)\n",
    "\n",
    "print(\"\")\n",
    "\n",
    "print(\"- Tempo de execução \" + E + \" - \" + method + \" - \" + e)\n"
   ]
  },
  {
   "cell_type": "markdown",
   "metadata": {},
   "source": [
    "# Gráfico"
   ]
  },
  {
   "cell_type": "markdown",
   "metadata": {},
   "source": [
    "### Ao final é apresentado um gráfico em barras verticais, e salvo em um arquivo PNG"
   ]
  },
  {
   "cell_type": "markdown",
   "metadata": {},
   "source": [
    "### Atenção: Por padrão, todos os valores de tempo são convertidos para segundos"
   ]
  },
  {
   "cell_type": "code",
   "execution_count": 15,
   "metadata": {},
   "outputs": [
    {
     "data": {
      "image/png": "[encoded data removed]",
      "text/plain": [
       "<Figure size 640x480 with 1 Axes>"
      ]
     },
     "metadata": {},
     "output_type": "display_data"
    }
   ],
   "source": [
    "plt.rcdefaults()\n",
    "fig, ax = plt.subplots()\n",
    "\n",
    "\n",
    "\n",
    "# Separando a média/desvio P. de cada componente testado e Convertendo tudo para Segundos caso não esteja\n",
    "\n",
    "aTime, aDev = lfunction.tratamento(a) \n",
    "bTime, bDev = lfunction.tratamento(b)\n",
    "cTime, cDev = lfunction.tratamento(c)\n",
    "dTime, dDev = lfunction.tratamento(d)\n",
    "eTime, eDev = lfunction.tratamento(e)\n",
    "\n",
    "\n",
    "\n",
    "# Atribuindo todos os dados ao gráfico\n",
    "\n",
    "people = (A, B, C, D, E)\n",
    "results = (aTime, bTime, cTime, dTime, eTime)\n",
    "dev = (aDev, bDev, cDev, dDev, eDev)\n",
    "\n",
    "x_pos = np.arange(len(people))\n",
    "performance = results\n",
    "\n",
    "error = dev\n",
    "\n",
    "barlist = plt.bar(x_pos, performance, yerr=error, align='center', alpha=0.4)\n",
    "barlist[0].set_color('r')\n",
    "barlist[1].set_color('g')\n",
    "barlist[2].set_color('c')\n",
    "barlist[3].set_color('b')\n",
    "barlist[4].set_color('y')\n",
    "plt.xticks(x_pos, people)\n",
    "plt.ylabel('Performance - Seconds')\n",
    "plt.title(title)\n",
    "\n",
    "\n",
    "plt.savefig(figName)\n",
    "plt.show()"
   ]
  }
 ],
 "metadata": {
  "kernelspec": {
   "display_name": "Python 3",
   "language": "python",
   "name": "python3"
  },
  "language_info": {
   "codemirror_mode": {
    "name": "ipython",
    "version": 3
   },
   "file_extension": ".py",
   "mimetype": "text/x-python",
   "name": "python",
   "nbconvert_exporter": "python",
   "pygments_lexer": "ipython3",
   "version": "3.6.9"
  }
 },
 "nbformat": 4,
 "nbformat_minor": 4
}
